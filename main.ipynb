{
  "cells": [
    {
      "cell_type": "markdown",
      "metadata": {
        "id": "5yKUg7dzNQli"
      },
      "source": [
        "#Menu.txt adlı bir dosya oluşturuyoruz ve içine menüyü ekliyoruz."
      ]
    },
    {
      "cell_type": "code",
      "execution_count": 5,
      "metadata": {
        "id": "B7dP39QQLGIh"
      },
      "outputs": [],
      "source": [
        "menu = '* Lütfen Bir Pizza Tabanı Seçiniz:\\n' \\\n",
        "       '1: Klasik\\n' \\\n",
        "       '2: Margarita\\n' \\\n",
        "       '3: TürkPizza\\n' \\\n",
        "       '4: Sade Pizza\\n' \\\n",
        "       '* ve seçeceğiniz sos:\\n' \\\n",
        "       '11: Zeytin\\n' \\\n",
        "       '12: Mantarlar\\n' \\\n",
        "       '13: Keçi Peyniri\\n' \\\n",
        "       '14: Et\\n' \\\n",
        "       '15: Soğan\\n' \\\n",
        "       '16: Mısır\\n' \\\n",
        "       '* Teşekkür ederiz!\\n'\n",
        "\n",
        "with open('Menu.txt', 'w') as file:\n",
        "    file.write(menu)"
      ]
    },
    {
      "cell_type": "markdown",
      "metadata": {
        "id": "9m588bCgOydq"
      },
      "source": [
        "# Pizza adında bit üst sınıf oluşturuyoruz, \n",
        "Pizza sınıfının içerisine encapsulation için get_description() ve get_cost() methodları tanımladık\n"
      ]
    },
    {
      "cell_type": "code",
      "execution_count": 4,
      "metadata": {
        "id": "pz5baLhNPDk8"
      },
      "outputs": [],
      "source": [
        "class Pizza:\n",
        "    def __init__(self, description, cost):\n",
        "        self.description = description\n",
        "        self.cost = cost\n",
        "    \n",
        "    #Hazırlanan pizzanın kısa açıklaması\n",
        "    #Description pizza\n",
        "    def get_description(self):\n",
        "        return self.description\n",
        "    #Pizzanın ücreti\n",
        "    #Pizza cost\n",
        "    def get_cost(self):\n",
        "        return self.cost"
      ]
    },
    {
      "cell_type": "markdown",
      "metadata": {
        "id": "AjSZp5jbP2AT"
      },
      "source": [
        "# Alt sınıflar \n",
        "Alt sınıflar oluşturuyoruz. Burada her pizza türü için ayrı bir sınıf tanımlayacağız ve her sınıfın Pizza sınıfından miras almasını sağlayacağız."
      ]
    },
    {
      "cell_type": "code",
      "execution_count": null,
      "metadata": {
        "id": "gkYxfU1HQJJd"
      },
      "outputs": [],
      "source": [
        "#Burada yukarıda encapsüle ettiğimiz Pizza sınıfından bir pizza üretiyoruz\n",
        "\n",
        "\n",
        "#\"ClassicPizza\" alt sınıfını oluşturduk\n",
        "class ClassicPizza(Pizza):\n",
        "    def __init__(self):\n",
        "\n",
        "        #Descrpiton değerine pizza açıklamasını giriyoruz\n",
        "        self.description = \"Classic Pizza\"\n",
        "        #Descrpiton değerine pizza açıklamasını giriyoruz\n",
        "        self.cost = 10.0\n",
        "\n",
        "    \"\"\"\n",
        "    Bu bir Decorator sınıfı olmadığı için get_cost() yöntemi sadece fiyat \n",
        "    bilgisini döndürüyor. Ancak Decorator sınıflarında get_cost() yöntemi, \n",
        "    öncelikle altındaki öğenin fiyatını alarak üzerine ek fiyat ekler ve toplam \n",
        "    fiyatı döndürür. Örneğin bir Pizza objesi üzerine eklenen bir sos objesi, \n",
        "    get_cost() yöntemi ile önce pizza fiyatını, ardından sos fiyatını ekleyerek \n",
        "    toplam fiyatı döndürür. Bu sayede farklı soslar ve malzemeler eklenebilen \n",
        "    pizza objeleri oluşturulabilir.Böylesi daha fonksiyonel olacaktır.\n",
        "    Bi sonraki adımda decorator oluşturacağım.\n",
        "    \"\"\"\n",
        "    def get_cost(self):\n",
        "        return self.cost\n",
        "\n",
        "\n",
        "#MargheritaPizza\" alt sınıfını oluşturduk\n",
        "class MargheritaPizza(Pizza):\n",
        "    def __init__(self):\n",
        "        self.description = \"Margherita Pizza\"\n",
        "        self.cost = 12.0\n",
        "\n",
        "    def get_cost(self):\n",
        "        return self.cost\n",
        "\n",
        "\n",
        "#\"TurkishPizza\" alt sınıfını oluşturduk\n",
        "class TurkishPizza(Pizza):\n",
        "    def __init__(self):\n",
        "        self.description = \"Turkish Pizza\"\n",
        "        self.cost = 15.0\n",
        "\n",
        "    def get_cost(self):\n",
        "        return self.cost\n",
        "\n",
        "\n",
        "#\"DominosPizza\" alt sınıfını oluşturduk\n",
        "class DominosPizza(Pizza):\n",
        "    def __init__(self):\n",
        "        self.description = \"Dominos Pizza\"\n",
        "        self.cost = 20.0\n",
        "\n",
        "    def get_cost(self):\n",
        "        return self.cost"
      ]
    },
    {
      "cell_type": "markdown",
      "metadata": {
        "id": "OcAPoce8Wn3z"
      },
      "source": [
        "# Decorator\n",
        "\n",
        "Öncelikle decorator ne demektir bundan kısaca bahsedelim\n",
        "\n",
        "Decorator nesneleri özel sarıcı nesneler içerisine yerleştirerek onlara yeni davranışlar kazandırmanızı sağlayan yapısal bir tasarım desenidir.\n",
        "Daha detaylı bilgi eklediğim kaynak linkinde mevcuttur.\n",
        "(Kaynak:https://www.evrenbal.com/decorator-tasarim-deseni-nedir)\n"
      ]
    },
    {
      "cell_type": "code",
      "execution_count": 8,
      "metadata": {
        "id": "7AzVKjUoiRBf"
      },
      "outputs": [],
      "source": [
        "# Üst sınıf oluştur \"Decorator\"\n",
        "class Decorator(Pizza):\n",
        "    def __init__(self, component):\n",
        "        self.component = component\n",
        "\n",
        "    def get_cost(self):\n",
        "        return self.component.get_cost() + Pizza.get_cost(self)\n",
        "\n",
        "    def get_description(self):\n",
        "        return self.component.get_description() + ' ' + Pizza.get_description(self)\n"
      ]
    },
    {
      "cell_type": "markdown",
      "metadata": {
        "id": "g_V9yqY8iVIh"
      },
      "source": [
        "#Decoratorden Alt sınıflar türetiyoruz"
      ]
    },
    {
      "cell_type": "code",
      "execution_count": 9,
      "metadata": {
        "id": "Ajn0z7H-iblV"
      },
      "outputs": [],
      "source": [
        "#\"Zeytin\" adlı decoratorden türeyen alt sınıf\n",
        "class Zeytin(Decorator):\n",
        "    def __init__(self, component):\n",
        "        self.description = \"Zeytin\"\n",
        "        self.cost = 2.0\n",
        "        super().__init__(component)\n",
        "\n",
        "    def get_cost(self):\n",
        "        return self.component.get_cost() + self.cost\n",
        "\n",
        "    def get_description(self):\n",
        "        return self.component.get_description() + ', ' + self.description\n",
        "\n",
        "\n",
        "#\"Mantar\" adlı decoratorden türeyen alt sınıf\n",
        "class Mantar(Decorator):\n",
        "    def __init__(self, component):\n",
        "        self.description = \"Mantar\"\n",
        "        self.cost = 3.0\n",
        "        super().__init__(component)\n",
        "\n",
        "    def get_cost(self):\n",
        "        return self.component.get_cost() + self.cost\n",
        "\n",
        "    def get_description(self):\n",
        "        return self.component.get_description() + ', ' + self.description\n",
        "\n",
        "\n",
        "#\"Keçi Peyniri\" adlı decoratorden türeyen alt sınıf\n",
        "class KeciPeyniri(Decorator):\n",
        "    def __init__(self, component):\n",
        "        self.description = \"Keçi Peyniri\"\n",
        "        self.cost = 4.0\n",
        "        super().__init__(component)\n",
        "\n",
        "    def get_cost(self):\n",
        "        return self.component.get_cost() + self.cost\n",
        "\n",
        "    def get_description(self):\n",
        "        return self.component.get_description() + ', ' + self.description\n",
        "\n",
        "\n",
        "#\"Et\" adlı decoratorden türeyen alt sınıf\n",
        "class Et(Decorator):\n",
        "    def __init__(self, component):\n",
        "        self.description = \"Et\"\n",
        "        self.cost = 5.0\n",
        "        super().__init__(component)\n",
        "\n",
        "    def get_cost(self):\n",
        "        return self.component.get_cost() + self.cost\n",
        "\n",
        "    def get_description(self):\n",
        "        return self.component.get_description() + ', ' + self.description\n",
        "\n",
        "\n",
        "#\"Soğan\" adlı decoratorden türeyen alt sınıf\n",
        "class Sogan(Decorator):\n",
        "    def __init__(self, component):\n",
        "        self.description = \"Soğan\"\n",
        "        self.cost = 2.5\n",
        "        super().__init__(component)\n",
        "\n",
        "    def get_cost(self):\n",
        "        return self.component.get_cost() + self.cost\n",
        "\n",
        "    def get_description(self):\n",
        "        return self.component.get_description() + ', ' + self.description\n",
        "\n",
        "#\"Mısır\" adlı decoratorden türeyen alt sınıf\n",
        "class Misir(Decorator):\n",
        "    def __init__(self, component):\n",
        "        self.description = \"Mısır\"\n",
        "        self.cost = 2.5\n",
        "        super().__init__(component)\n",
        "\n",
        "    def get_cost(self):\n",
        "        return self.component.get_cost() + self.cost\n",
        "\n",
        "    def get_description(self):\n",
        "        return self.component.get_description() + ', ' + self.description"
      ]
    },
    {
      "cell_type": "markdown",
      "metadata": {},
      "source": [
        "# Şimdi bir pizza üretelim "
      ]
    },
    {
      "cell_type": "code",
      "execution_count": null,
      "metadata": {},
      "outputs": [
        {
          "name": "stdout",
          "output_type": "stream",
          "text": [
            "Pizza içeriği: Özelleştirilmiş pizza, Zeytin, Mantar, Keçi Peyniri\n",
            "Toplam fiyat: 19.0 TL\n"
          ]
        }
      ],
      "source": [
        "# Bİr pizza üretelim\n",
        "p = Pizza(\"Özelleştirilmiş pizza\" , 10)\n",
        "\n",
        "# Pizzanın üzerine istediğimiz malzemeleri ekleyelim\n",
        "# Ekldediğimiz her ürünün son fiyatına eklenecektir\n",
        "p = Zeytin(p)\n",
        "p = Mantar(p)\n",
        "p = KeciPeyniri(p)\n",
        "\n",
        "# Pizza içeriğini ve fiyatını ekrana basalım\n",
        "print(\"Pizza içeriği: \" + p.get_description())\n",
        "print(\"Toplam fiyat: \" + str(p.get_cost()) + \" TL\")"
      ]
    }
  ],
  "metadata": {
    "colab": {
      "provenance": [],
      "toc_visible": true
    },
    "kernelspec": {
      "display_name": "Python 3",
      "name": "python3"
    },
    "language_info": {
      "name": "python"
    }
  },
  "nbformat": 4,
  "nbformat_minor": 0
}
