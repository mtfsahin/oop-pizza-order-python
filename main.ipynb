{
  "nbformat": 4,
  "nbformat_minor": 0,
  "metadata": {
    "colab": {
      "provenance": []
    },
    "kernelspec": {
      "name": "python3",
      "display_name": "Python 3"
    },
    "language_info": {
      "name": "python"
    }
  },
  "cells": [
    {
      "cell_type": "code",
      "source": [
        "import csv\n",
        "import datetime"
      ],
      "metadata": {
        "id": "NHf1qd-SyrHw"
      },
      "execution_count": 9,
      "outputs": []
    },
    {
      "cell_type": "markdown",
      "source": [
        "#Menu.txt adlı bir dosya oluşturuyoruz ve içine menüyü ekliyoruz."
      ],
      "metadata": {
        "id": "5yKUg7dzNQli"
      }
    },
    {
      "cell_type": "code",
      "execution_count": 10,
      "metadata": {
        "id": "B7dP39QQLGIh"
      },
      "outputs": [],
      "source": [
        "menu = '* Lütfen Bir Pizza Tabanı Seçiniz:\\n' \\\n",
        "       '1: Klasik\\n' \\\n",
        "       '2: Margarita\\n' \\\n",
        "       '3: TürkPizza\\n' \\\n",
        "       '4: Sade Pizza\\n' \\\n",
        "       '* ve seçeceğiniz sos:\\n' \\\n",
        "       '11: Zeytin\\n' \\\n",
        "       '12: Mantarlar\\n' \\\n",
        "       '13: Keçi Peyniri\\n' \\\n",
        "       '14: Et\\n' \\\n",
        "       '15: Soğan\\n' \\\n",
        "       '16: Mısır\\n' \\\n",
        "       '* Teşekkür ederiz!\\n'\n",
        "\n",
        "with open('Menu.txt', 'w') as file:\n",
        "    file.write(menu)"
      ]
    },
    {
      "cell_type": "markdown",
      "source": [
        "# Pizza adında bir üst sınıf oluşturuyoruz\n",
        "Pizza sınıfının içerisine encapsulation için get_description() ve get_cost() methodları tanımladık"
      ],
      "metadata": {
        "id": "9m588bCgOydq"
      }
    },
    {
      "cell_type": "code",
      "source": [
        "class Pizza:\n",
        "    def __init__(self, description, cost):\n",
        "        self.description = description\n",
        "        self.cost = cost\n",
        "    \n",
        "    #Hazırlanan pizzanın kısa açıklaması\n",
        "    #Description pizza\n",
        "    def get_description(self):\n",
        "        return self.description\n",
        "    #Pizzanın ücreti\n",
        "    #Pizza cost\n",
        "    def get_cost(self):\n",
        "        return self.cost"
      ],
      "metadata": {
        "id": "pz5baLhNPDk8"
      },
      "execution_count": 11,
      "outputs": []
    },
    {
      "cell_type": "markdown",
      "source": [
        "# Alt sınıflar \n",
        "Alt sınıflar oluşturuyoruz. Burada her pizza türü için ayrı bir sınıf tanımlayacağız ve her sınıfın Pizza sınıfından miras almasını sağlayacağız."
      ],
      "metadata": {
        "id": "AjSZp5jbP2AT"
      }
    },
    {
      "cell_type": "code",
      "source": [
        "#Burada yukarıda encapsüle ettiğimiz Pizza sınıfından bir pizza üretiyoruz\n",
        "\n",
        "\n",
        "#\"Klasik\" alt sınıfını oluşturduk\n",
        "class Klasik(Pizza):\n",
        "    def __init__(self):\n",
        "\n",
        "        #Descrpiton değerine pizza açıklamasını giriyoruz\n",
        "        self.description = \"Classic Pizza\"\n",
        "        #Descrpiton değerine pizza açıklamasını giriyoruz\n",
        "        self.cost = 10.0\n",
        "\n",
        "    \"\"\"\n",
        "    Bu bir Decorator sınıfı olmadığı için get_cost() yöntemi sadece fiyat \n",
        "    bilgisini döndürüyor. Ancak Decorator sınıflarında get_cost() yöntemi, \n",
        "    öncelikle altındaki öğenin fiyatını alarak üzerine ek fiyat ekler ve toplam \n",
        "    fiyatı döndürür. Örneğin bir Pizza objesi üzerine eklenen bir sos objesi, \n",
        "    get_cost() yöntemi ile önce pizza fiyatını, ardından sos fiyatını ekleyerek \n",
        "    toplam fiyatı döndürür. Bu sayede farklı soslar ve malzemeler eklenebilen \n",
        "    pizza objeleri oluşturulabilir.Böylesi daha fonksiyonel olacaktır.\n",
        "    Bi sonraki adımda decorator oluşturacağım.\n",
        "    \"\"\"\n",
        "    def get_cost(self):\n",
        "        return self.cost\n",
        "\n",
        "\n",
        "#Margarita\" alt sınıfını oluşturduk\n",
        "class Margarita(Pizza):\n",
        "    def __init__(self):\n",
        "        self.description = \"Margherita Pizza\"\n",
        "        self.cost = 12.0\n",
        "\n",
        "    def get_cost(self):\n",
        "        return self.cost\n",
        "\n",
        "\n",
        "#\"TürkPizza\" alt sınıfını oluşturduk\n",
        "class TurkPizza(Pizza):\n",
        "    def __init__(self):\n",
        "        self.description = \"Turkish Pizza\"\n",
        "        self.cost = 15.0\n",
        "\n",
        "    def get_cost(self):\n",
        "        return self.cost\n",
        "\n",
        "\n",
        "#\"Sade Pizza\" alt sınıfını oluşturduk\n",
        "class SadePizza(Pizza):\n",
        "    def __init__(self):\n",
        "        self.description = \"Dominos Pizza\"\n",
        "        self.cost = 20.0\n",
        "\n",
        "    def get_cost(self):\n",
        "        return self.cost"
      ],
      "metadata": {
        "id": "gkYxfU1HQJJd"
      },
      "execution_count": 12,
      "outputs": []
    },
    {
      "cell_type": "markdown",
      "source": [
        "# Decorator\n",
        "\n",
        "Öncelikle decorator ne demektir bundan kısaca bahsedelim\n",
        "\n",
        "Decorator nesneleri özel sarıcı nesneler içerisine yerleştirerek onlara yeni davranışlar kazandırmanızı sağlayan yapısal bir tasarım desenidir.\n",
        "Daha detaylı bilgi eklediğim kaynak linkinde mevcuttur.\n",
        "(Kaynak:https://www.evrenbal.com/decorator-tasarim-deseni-nedir)\n"
      ],
      "metadata": {
        "id": "OcAPoce8Wn3z"
      }
    },
    {
      "cell_type": "code",
      "source": [
        "# Üst sınıf oluştur \"Decorator\"\n",
        "class Decorator(Pizza):\n",
        "    def __init__(self, component):\n",
        "        self.component = component\n",
        "\n",
        "    def get_cost(self):\n",
        "        return self.component.get_cost() + Pizza.get_cost(self)\n",
        "\n",
        "    def get_description(self):\n",
        "        return self.component.get_description() + ' ' + Pizza.get_description(self)\n"
      ],
      "metadata": {
        "id": "7AzVKjUoiRBf"
      },
      "execution_count": 13,
      "outputs": []
    },
    {
      "cell_type": "markdown",
      "source": [
        "#Decoratorden Alt sınıflar türetiyoruz"
      ],
      "metadata": {
        "id": "g_V9yqY8iVIh"
      }
    },
    {
      "cell_type": "code",
      "source": [
        "#\"Zeytin\" adlı decoratorden türeyen alt sınıf\n",
        "class Zeytin(Decorator):\n",
        "    def __init__(self, component):\n",
        "        self.description = \"Zeytin\"\n",
        "        self.cost = 2.0\n",
        "        super().__init__(component)\n",
        "\n",
        "    def get_cost(self):\n",
        "        return self.component.get_cost() + self.cost\n",
        "\n",
        "    def get_description(self):\n",
        "        return self.component.get_description() + ', ' + self.description\n",
        "\n",
        "\n",
        "#\"Mantarlar\" adlı decoratorden türeyen alt sınıf\n",
        "class Mantarlar(Decorator):\n",
        "    def __init__(self, component):\n",
        "        self.description = \"Mantarlar\"\n",
        "        self.cost = 3.0\n",
        "        super().__init__(component)\n",
        "\n",
        "    def get_cost(self):\n",
        "        return self.component.get_cost() + self.cost\n",
        "\n",
        "    def get_description(self):\n",
        "        return self.component.get_description() + ', ' + self.description\n",
        "\n",
        "\n",
        "#\"Keçi Peyniri\" adlı decoratorden türeyen alt sınıf\n",
        "class KeciPeyniri(Decorator):\n",
        "    def __init__(self, component):\n",
        "        self.description = \"Keçi Peyniri\"\n",
        "        self.cost = 4.0\n",
        "        super().__init__(component)\n",
        "\n",
        "    def get_cost(self):\n",
        "        return self.component.get_cost() + self.cost\n",
        "\n",
        "    def get_description(self):\n",
        "        return self.component.get_description() + ', ' + self.description\n",
        "\n",
        "\n",
        "#\"Et\" adlı decoratorden türeyen alt sınıf\n",
        "class Et(Decorator):\n",
        "    def __init__(self, component):\n",
        "        self.description = \"Et\"\n",
        "        self.cost = 5.0\n",
        "        super().__init__(component)\n",
        "\n",
        "    def get_cost(self):\n",
        "        return self.component.get_cost() + self.cost\n",
        "\n",
        "    def get_description(self):\n",
        "        return self.component.get_description() + ', ' + self.description\n",
        "\n",
        "\n",
        "#\"Soğan\" adlı decoratorden türeyen alt sınıf\n",
        "class Sogan(Decorator):\n",
        "    def __init__(self, component):\n",
        "        self.description = \"Soğan\"\n",
        "        self.cost = 2.5\n",
        "        super().__init__(component)\n",
        "\n",
        "    def get_cost(self):\n",
        "        return self.component.get_cost() + self.cost\n",
        "\n",
        "    def get_description(self):\n",
        "        return self.component.get_description() + ', ' + self.description\n",
        "\n",
        "#\"Mısır\" adlı decoratorden türeyen alt sınıf\n",
        "class Misir(Decorator):\n",
        "    def __init__(self, component):\n",
        "        self.description = \"Mısır\"\n",
        "        self.cost = 2.5\n",
        "        super().__init__(component)\n",
        "\n",
        "    def get_cost(self):\n",
        "        return self.component.get_cost() + self.cost\n",
        "\n",
        "    def get_description(self):\n",
        "        return self.component.get_description() + ', ' + self.description"
      ],
      "metadata": {
        "id": "Ajn0z7H-iblV"
      },
      "execution_count": 14,
      "outputs": []
    },
    {
      "cell_type": "markdown",
      "source": [
        "# Menümüzü ekrana"
      ],
      "metadata": {
        "id": "WsUWVrK4nqim"
      }
    },
    {
      "cell_type": "code",
      "source": [
        "# Pizza siparişi vermek için menü oluşturuyoruz.\n",
        "# Menü dosyasından pizzaları listeler ve kullanıcının pizzasını seçmesini ve ek malzemeler eklemesini sağlar.\n",
        "# Kullanıcının seçtiği pizzanın açıklamasını ve fiyatını görüntüler.\n",
        "\n",
        "class_dict = {\n",
        "    1: Klasik,\n",
        "    2: Margarita,\n",
        "    3: TurkPizza,\n",
        "    4: SadePizza,\n",
        "    5: Zeytin,\n",
        "    6: Mantarlar,\n",
        "    7: KeciPeyniri,\n",
        "    8: Et,\n",
        "    9: Sogan,\n",
        "    10: Misir\n",
        "}\n",
        "\n",
        "def display_menu():\n",
        "    with open(\"Menu.txt\") as menu_file:\n",
        "        print(menu_file.read())\n",
        "\n",
        "def get_pizza_choice():\n",
        "    while True:\n",
        "        code = input(\"Lütfen Pizzanızı Seçiniz: \")\n",
        "        if code in [\"1\", \"2\", \"3\", \"4\"]:\n",
        "            return class_dict[int(code)]()\n",
        "        else:\n",
        "            print(\"Yanlış Giriş Yaptınız.\")\n",
        "\n",
        "def get_toppings(pizza):\n",
        "    while True:\n",
        "        code = input(\"Lütfen malzeme seçiniz (Atlamak için 0'a basınız) : \")\n",
        "        if code == \"0\":\n",
        "            return pizza\n",
        "        elif code in [\"5\",\"6\",\"7\",\"8\",\"9\",\"10\"]:\n",
        "            pizza = class_dict[int(code)](pizza)\n",
        "        else:\n",
        "            print(\"Yanlış Giriş Yaptınız.\")\n",
        "\n",
        "def main():\n",
        "    display_menu()\n",
        "    pizza = get_pizza_choice()\n",
        "    pizza = get_toppings(pizza)\n",
        "    print(\"\\n\" + pizza.get_description().strip() + str(pizza.get_cost()) + \"TL\" )\n",
        "\n",
        "    print(\"----------Sipariş Bilgileri----------\\n\")\n",
        "    name = input(\"İsminiz: \")\n",
        "    tc = input(\"TC Kimlik Numaranız: \")\n",
        "    k_no = input(\"Kredi Kartı Numaranızı Giriniz: \")\n",
        "    k_password = input(\"Kredi Kartı Şifrenizi Giriniz: \")\n",
        "    date_time = datetime.datetime.now()\n",
        "\n",
        "    with open('Orders_Database.csv', 'a') as orders:\n",
        "        orders = csv.writer(orders, delimiter=',')\n",
        "        orders.writerow([name, tc, k_no, k_password, pizza.get_description(), date_time])\n",
        "    print(\"Siparişiniz onaylandı...\")\n",
        "main()"
      ],
      "metadata": {
        "colab": {
          "base_uri": "https://localhost:8080/"
        },
        "id": "ikEPiI9Tnuuo",
        "outputId": "6d5aee8b-c16d-4f05-d957-89a4a6ad1e98"
      },
      "execution_count": 36,
      "outputs": [
        {
          "output_type": "stream",
          "name": "stdout",
          "text": [
            "* Lütfen Bir Pizza Tabanı Seçiniz:\n",
            "1: Klasik\n",
            "2: Margarita\n",
            "3: TürkPizza\n",
            "4: Sade Pizza\n",
            "* ve seçeceğiniz sos:\n",
            "11: Zeytin\n",
            "12: Mantarlar\n",
            "13: Keçi Peyniri\n",
            "14: Et\n",
            "15: Soğan\n",
            "16: Mısır\n",
            "* Teşekkür ederiz!\n",
            "\n",
            "Lütfen Pizzanızı Seçiniz: 4\n",
            "Lütfen malzeme seçiniz (Atlamak için 0'a basınız) : \n",
            "Yanlış Giriş Yaptınız.\n",
            "Lütfen malzeme seçiniz (Atlamak için 0'a basınız) : 0\n",
            "\n",
            "Dominos Pizza20.0TL\n",
            "----------Sipariş Bilgileri----------\n",
            "\n",
            "İsminiz: mustafa\n",
            "TC Kimlik Numaranız: 12341234\n",
            "Kredi Kartı Numaranızı Giriniz: 123123123\n",
            "Kredi Kartı Şifrenizi Giriniz: 1234\n",
            "Siparişiniz onaylandı...\n"
          ]
        }
      ]
    }
  ]
}