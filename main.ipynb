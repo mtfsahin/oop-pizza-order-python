{
  "nbformat": 4,
  "nbformat_minor": 0,
  "metadata": {
    "colab": {
      "provenance": [],
      "toc_visible": true
    },
    "kernelspec": {
      "name": "python3",
      "display_name": "Python 3"
    },
    "language_info": {
      "name": "python"
    }
  },
  "cells": [
    {
      "cell_type": "markdown",
      "source": [
        "#Menu.txt adlı bir dosya oluşturuyoruz ve içine menüyü ekliyoruz."
      ],
      "metadata": {
        "id": "5yKUg7dzNQli"
      }
    },
    {
      "cell_type": "code",
      "execution_count": 5,
      "metadata": {
        "id": "B7dP39QQLGIh"
      },
      "outputs": [],
      "source": [
        "menu = '* Lütfen Bir Pizza Tabanı Seçiniz:\\n' \\\n",
        "       '1: Klasik\\n' \\\n",
        "       '2: Margarita\\n' \\\n",
        "       '3: TürkPizza\\n' \\\n",
        "       '4: Sade Pizza\\n' \\\n",
        "       '* ve seçeceğiniz sos:\\n' \\\n",
        "       '11: Zeytin\\n' \\\n",
        "       '12: Mantarlar\\n' \\\n",
        "       '13: Keçi Peyniri\\n' \\\n",
        "       '14: Et\\n' \\\n",
        "       '15: Soğan\\n' \\\n",
        "       '16: Mısır\\n' \\\n",
        "       '* Teşekkür ederiz!\\n'\n",
        "\n",
        "with open('Menu.txt', 'w') as file:\n",
        "    file.write(menu)"
      ]
    },
    {
      "cell_type": "markdown",
      "source": [
        "# Pizza adında bit üst sınıf oluşturuyoruz, \n",
        "Pizza sınıfının içerisine encapsulation için get_description() ve get_cost() methodları tanımladık\n"
      ],
      "metadata": {
        "id": "9m588bCgOydq"
      }
    },
    {
      "cell_type": "code",
      "source": [
        "class Pizza:\n",
        "    def __init__(self, description, cost):\n",
        "        self.description = description\n",
        "        self.cost = cost\n",
        "    \n",
        "    #Hazırlanan pizzanın kısa açıklaması\n",
        "    #Description pizza\n",
        "    def get_description(self):\n",
        "        return self.description\n",
        "    #Pizzanın ücreti\n",
        "    #Pizza cost\n",
        "    def get_cost(self):\n",
        "        return self.cost"
      ],
      "metadata": {
        "id": "pz5baLhNPDk8"
      },
      "execution_count": 4,
      "outputs": []
    },
    {
      "cell_type": "markdown",
      "source": [
        "# Alt sınıflar \n",
        "Alt sınıflar oluşturuyoruz. Burada her pizza türü için ayrı bir sınıf tanımlayacağız ve her sınıfın Pizza sınıfından miras almasını sağlayacağız."
      ],
      "metadata": {
        "id": "AjSZp5jbP2AT"
      }
    },
    {
      "cell_type": "code",
      "source": [
        "#Burada yukarıda encapsüle ettiğimiz Pizza sınıfından bir pizza üretiyoruz\n",
        "\n",
        "\n",
        "#\"ClassicPizza\" alt sınıfını oluşturduk\n",
        "class ClassicPizza(Pizza):\n",
        "    def __init__(self):\n",
        "\n",
        "        #Descrpiton değerine pizza açıklamasını giriyoruz\n",
        "        self.description = \"Classic Pizza\"\n",
        "        #Descrpiton değerine pizza açıklamasını giriyoruz\n",
        "        self.cost = 10.0\n",
        "\n",
        "    \"\"\"\n",
        "    Bu bir Decorator sınıfı olmadığı için get_cost() yöntemi sadece fiyat \n",
        "    bilgisini döndürüyor. Ancak Decorator sınıflarında get_cost() yöntemi, \n",
        "    öncelikle altındaki öğenin fiyatını alarak üzerine ek fiyat ekler ve toplam \n",
        "    fiyatı döndürür. Örneğin bir Pizza objesi üzerine eklenen bir sos objesi, \n",
        "    get_cost() yöntemi ile önce pizza fiyatını, ardından sos fiyatını ekleyerek \n",
        "    toplam fiyatı döndürür. Bu sayede farklı soslar ve malzemeler eklenebilen \n",
        "    pizza objeleri oluşturulabilir.Böylesi daha fonksiyonel olacaktır.\n",
        "    Bi sonraki adımda decorator oluşturacağım.\n",
        "    \"\"\"\n",
        "    def get_cost(self):\n",
        "        return self.cost\n",
        "\n",
        "\n",
        "#MargheritaPizza\" alt sınıfını oluşturduk\n",
        "class MargheritaPizza(Pizza):\n",
        "    def __init__(self):\n",
        "        self.description = \"Margherita Pizza\"\n",
        "        self.cost = 12.0\n",
        "\n",
        "    def get_cost(self):\n",
        "        return self.cost\n",
        "\n",
        "\n",
        "#\"TurkishPizza\" alt sınıfını oluşturduk\n",
        "class TurkishPizza(Pizza):\n",
        "    def __init__(self):\n",
        "        self.description = \"Turkish Pizza\"\n",
        "        self.cost = 15.0\n",
        "\n",
        "    def get_cost(self):\n",
        "        return self.cost\n",
        "\n",
        "\n",
        "#\"DominosPizza\" alt sınıfını oluşturduk\n",
        "class DominosPizza(Pizza):\n",
        "    def __init__(self):\n",
        "        self.description = \"Dominos Pizza\"\n",
        "        self.cost = 20.0\n",
        "\n",
        "    def get_cost(self):\n",
        "        return self.cost"
      ],
      "metadata": {
        "id": "gkYxfU1HQJJd"
      },
      "execution_count": null,
      "outputs": []
    },
    {
      "cell_type": "markdown",
      "source": [
        "# Decorator\n",
        "\n",
        "Öncelikle decorator ne demektir bundan kısaca bahsedelim\n",
        "\n",
        "Decorator nesneleri özel sarıcı nesneler içerisine yerleştirerek onlara yeni davranışlar kazandırmanızı sağlayan yapısal bir tasarım desenidir.\n",
        "Daha detaylı bilgi eklediğim kaynak linkinde mevcuttur.\n",
        "(Kaynak:https://www.evrenbal.com/decorator-tasarim-deseni-nedir)\n"
      ],
      "metadata": {
        "id": "OcAPoce8Wn3z"
      }
    },
    {
      "cell_type": "code",
      "source": [
        "# Üst sınıf oluştur \"Decorator\"\n",
        "class Decorator(Pizza):\n",
        "    def __init__(self, component):\n",
        "        self.component = component\n",
        "\n",
        "    def get_cost(self):\n",
        "        return self.component.get_cost() + Pizza.get_cost(self)\n",
        "\n",
        "    def get_description(self):\n",
        "        return self.component.get_description() + ' ' + Pizza.get_description(self)\n"
      ],
      "metadata": {
        "id": "7AzVKjUoiRBf"
      },
      "execution_count": 8,
      "outputs": []
    },
    {
      "cell_type": "markdown",
      "source": [
        "#Decoratorden Alt sınıflar türetiyoruz"
      ],
      "metadata": {
        "id": "g_V9yqY8iVIh"
      }
    },
    {
      "cell_type": "code",
      "source": [
        "#\"Zeytin\" adlı decoratorden türeyen alt sınıf\n",
        "class Zeytin(Decorator):\n",
        "    def __init__(self, component):\n",
        "        self.description = \"Zeytin\"\n",
        "        self.cost = 2.0\n",
        "        super().__init__(component)\n",
        "\n",
        "    def get_cost(self):\n",
        "        return self.component.get_cost() + self.cost\n",
        "\n",
        "    def get_description(self):\n",
        "        return self.component.get_description() + ', ' + self.description\n",
        "\n",
        "\n",
        "#\"Mantar\" adlı decoratorden türeyen alt sınıf\n",
        "class Mantar(Decorator):\n",
        "    def __init__(self, component):\n",
        "        self.description = \"Mantar\"\n",
        "        self.cost = 3.0\n",
        "        super().__init__(component)\n",
        "\n",
        "    def get_cost(self):\n",
        "        return self.component.get_cost() + self.cost\n",
        "\n",
        "    def get_description(self):\n",
        "        return self.component.get_description() + ', ' + self.description\n",
        "\n",
        "\n",
        "#\"Keçi Peyniri\" adlı decoratorden türeyen alt sınıf\n",
        "class KeciPeyniri(Decorator):\n",
        "    def __init__(self, component):\n",
        "        self.description = \"Keçi Peyniri\"\n",
        "        self.cost = 4.0\n",
        "        super().__init__(component)\n",
        "\n",
        "    def get_cost(self):\n",
        "        return self.component.get_cost() + self.cost\n",
        "\n",
        "    def get_description(self):\n",
        "        return self.component.get_description() + ', ' + self.description\n",
        "\n",
        "\n",
        "#\"Et\" adlı decoratorden türeyen alt sınıf\n",
        "class Et(Decorator):\n",
        "    def __init__(self, component):\n",
        "        self.description = \"Et\"\n",
        "        self.cost = 5.0\n",
        "        super().__init__(component)\n",
        "\n",
        "    def get_cost(self):\n",
        "        return self.component.get_cost() + self.cost\n",
        "\n",
        "    def get_description(self):\n",
        "        return self.component.get_description() + ', ' + self.description\n",
        "\n",
        "\n",
        "#\"Soğan\" adlı decoratorden türeyen alt sınıf\n",
        "class Sogan(Decorator):\n",
        "    def __init__(self, component):\n",
        "        self.description = \"Soğan\"\n",
        "        self.cost = 2.5\n",
        "        super().__init__(component)\n",
        "\n",
        "    def get_cost(self):\n",
        "        return self.component.get_cost() + self.cost\n",
        "\n",
        "    def get_description(self):\n",
        "        return self.component.get_description() + ', ' + self.description\n",
        "\n",
        "#\"Mısır\" adlı decoratorden türeyen alt sınıf\n",
        "class Misir(Decorator):\n",
        "    def __init__(self, component):\n",
        "        self.description = \"Mısır\"\n",
        "        self.cost = 2.5\n",
        "        super().__init__(component)\n",
        "\n",
        "    def get_cost(self):\n",
        "        return self.component.get_cost() + self.cost\n",
        "\n",
        "    def get_description(self):\n",
        "        return self.component.get_description() + ', ' + self.description"
      ],
      "metadata": {
        "id": "Ajn0z7H-iblV"
      },
      "execution_count": 9,
      "outputs": []
    }
  ]
}