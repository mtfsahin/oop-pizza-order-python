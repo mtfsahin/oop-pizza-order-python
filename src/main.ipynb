{
  "nbformat": 4,
  "nbformat_minor": 0,
  "metadata": {
    "colab": {
      "provenance": []
    },
    "kernelspec": {
      "name": "python3",
      "display_name": "Python 3"
    },
    "language_info": {
      "name": "python"
    }
  },
  "cells": [
    {
      "cell_type": "code",
      "source": [
        "import csv\n",
        "import datetime\n",
        "import base64"
      ],
      "metadata": {
        "id": "NHf1qd-SyrHw"
      },
      "execution_count": 23,
      "outputs": []
    },
    {
      "cell_type": "markdown",
      "source": [
        "#Menu.txt adlı bir dosya oluşturuyoruz ve içine menüyü ekliyoruz."
      ],
      "metadata": {
        "id": "5yKUg7dzNQli"
      }
    },
    {
      "cell_type": "code",
      "execution_count": 24,
      "metadata": {
        "id": "B7dP39QQLGIh"
      },
      "outputs": [],
      "source": [
        "menu = '* ************HOŞGELDİNİZ*********\\n' \\\n",
        "       '* Lütfen Bir Pizza Tabanı Seçiniz:\\n' \\\n",
        "       '1: Klasik\\n' \\\n",
        "       '2: Margarita\\n' \\\n",
        "       '3: TürkPizza\\n' \\\n",
        "       '4: Sade Pizza\\n' \\\n",
        "       '* ve seçeceğiniz sos:\\n' \\\n",
        "       '11: Zeytin\\n' \\\n",
        "       '12: Mantarlar\\n' \\\n",
        "       '13: Keçi Peyniri\\n' \\\n",
        "       '14: Et\\n' \\\n",
        "       '15: Soğan\\n' \\\n",
        "       '16: Mısır\\n' \\\n",
        "       '* Teşekkür ederiz!\\n'\n",
        "\n",
        "with open('Menu.txt', 'w') as file:\n",
        "    file.write(menu)"
      ]
    },
    {
      "cell_type": "markdown",
      "source": [
        "# Pizza adında bir üst sınıf oluşturuyoruz\n",
        "Pizza sınıfının içerisine encapsulation için get_description() ve get_cost() methodları tanımladık"
      ],
      "metadata": {
        "id": "9m588bCgOydq"
      }
    },
    {
      "cell_type": "code",
      "source": [
        "class Pizza:\n",
        "    def __init__(self, description, cost):\n",
        "        self.description = description\n",
        "        self.cost = cost\n",
        "    \n",
        "    #Hazırlanan pizzanın kısa açıklaması\n",
        "    #Description pizza\n",
        "    def get_description(self):\n",
        "        return self.description\n",
        "    #Pizzanın ücreti\n",
        "    #Pizza cost\n",
        "    def get_cost(self):\n",
        "        return self.cost"
      ],
      "metadata": {
        "id": "pz5baLhNPDk8"
      },
      "execution_count": 25,
      "outputs": []
    },
    {
      "cell_type": "markdown",
      "source": [
        "# Alt sınıflar \n",
        "Alt sınıflar oluşturuyoruz. Burada her pizza türü için ayrı bir sınıf tanımlayacağız ve her sınıfın Pizza sınıfından miras almasını sağlayacağız."
      ],
      "metadata": {
        "id": "AjSZp5jbP2AT"
      }
    },
    {
      "cell_type": "code",
      "source": [
        "#Burada yukarıda encapsüle ettiğimiz Pizza sınıfından bir pizza üretiyoruz\n",
        "\n",
        "\n",
        "#\"Klasik\" alt sınıfını oluşturduk\n",
        "class Klasik(Pizza):\n",
        "    def __init__(self):\n",
        "\n",
        "        #Descrpiton değerine pizza açıklamasını giriyoruz\n",
        "        self.description = \"Klasik Pizza: domates sosu, mozzarella peyniri, mısır, mantar, zeytin\"\n",
        "        #Descrpiton değerine pizza açıklamasını giriyoruz\n",
        "        self.cost = 10.0\n",
        "\n",
        "    \"\"\"\n",
        "    Bu bir Decorator sınıfı olmadığı için get_cost() yöntemi sadece fiyat \n",
        "    bilgisini döndürüyor. Ancak Decorator sınıflarında get_cost() yöntemi, \n",
        "    öncelikle altındaki öğenin fiyatını alarak üzerine ek fiyat ekler ve toplam \n",
        "    fiyatı döndürür. Örneğin bir Pizza objesi üzerine eklenen bir sos objesi, \n",
        "    get_cost() yöntemi ile önce pizza fiyatını, ardından sos fiyatını ekleyerek \n",
        "    toplam fiyatı döndürür. Bu sayede farklı soslar ve malzemeler eklenebilen \n",
        "    pizza objeleri oluşturulabilir.Böylesi daha fonksiyonel olacaktır.\n",
        "    Bi sonraki adımda decorator oluşturacağım.\n",
        "    \"\"\"\n",
        "    def get_cost(self):\n",
        "        return self.cost\n",
        "\n",
        "\n",
        "#Margarita\" alt sınıfını oluşturduk\n",
        "class Margarita(Pizza):\n",
        "    def __init__(self):\n",
        "        self.description = \"Margherita Pizza: Domates sosu, Mozzarella peyniri,taze fesleğen yaprakları\"\n",
        "        self.cost = 12.0\n",
        "\n",
        "    def get_cost(self):\n",
        "        return self.cost\n",
        "\n",
        "\n",
        "#\"TürkPizza\" alt sınıfını oluşturduk\n",
        "class TurkPizza(Pizza):\n",
        "    def __init__(self):\n",
        "        self.description = \"Turkish Pizza: Sucuk, sosis, domates, biber, kaşar peyniri\"\n",
        "        self.cost = 15.0\n",
        "\n",
        "    def get_cost(self):\n",
        "        return self.cost\n",
        "\n",
        "\n",
        "#\"Sade Pizza\" alt sınıfını oluşturduk\n",
        "class SadePizza(Pizza):\n",
        "    def __init__(self):\n",
        "        self.description = \"Sade Pizza: Pizza hamuru, domates sosu, mozarella peyniri\"\n",
        "        self.cost = 20.0\n",
        "\n",
        "    def get_cost(self):\n",
        "        return self.cost"
      ],
      "metadata": {
        "id": "gkYxfU1HQJJd"
      },
      "execution_count": 26,
      "outputs": []
    },
    {
      "cell_type": "markdown",
      "source": [
        "# Decorator\n",
        "\n",
        "Öncelikle decorator ne demektir bundan kısaca bahsedelim\n",
        "\n",
        "Decorator nesneleri özel sarıcı nesneler içerisine yerleştirerek onlara yeni davranışlar kazandırmanızı sağlayan yapısal bir tasarım desenidir.\n",
        "Daha detaylı bilgi eklediğim kaynak linkinde mevcuttur.\n",
        "(Kaynak:https://www.evrenbal.com/decorator-tasarim-deseni-nedir)\n"
      ],
      "metadata": {
        "id": "OcAPoce8Wn3z"
      }
    },
    {
      "cell_type": "code",
      "source": [
        "# Üst sınıf oluştur \"Decorator\"\n",
        "class Decorator(Pizza):\n",
        "    def __init__(self, component):\n",
        "        self.component = component\n",
        "\n",
        "    def get_cost(self):\n",
        "        return self.component.get_cost() + Pizza.get_cost(self)\n",
        "\n",
        "    def get_description(self):\n",
        "        return self.component.get_description() + ' ' + Pizza.get_description(self)\n"
      ],
      "metadata": {
        "id": "7AzVKjUoiRBf"
      },
      "execution_count": 27,
      "outputs": []
    },
    {
      "cell_type": "markdown",
      "source": [
        "#Decoratorden Alt sınıflar türetiyoruz"
      ],
      "metadata": {
        "id": "g_V9yqY8iVIh"
      }
    },
    {
      "cell_type": "code",
      "source": [
        "#\"Zeytin\" adlı decoratorden türeyen alt sınıf\n",
        "class Zeytin(Decorator):\n",
        "    def __init__(self, component):\n",
        "        self.description = \"Zeytin\"\n",
        "        self.cost = 2.0\n",
        "        super().__init__(component)\n",
        "\n",
        "    def get_cost(self):\n",
        "        return self.component.get_cost() + self.cost\n",
        "\n",
        "    def get_description(self):\n",
        "        return self.component.get_description() + ', ' + self.description\n",
        "\n",
        "\n",
        "#\"Mantarlar\" adlı decoratorden türeyen alt sınıf\n",
        "class Mantarlar(Decorator):\n",
        "    def __init__(self, component):\n",
        "        self.description = \"Mantarlar\"\n",
        "        self.cost = 3.0\n",
        "        super().__init__(component)\n",
        "\n",
        "    def get_cost(self):\n",
        "        return self.component.get_cost() + self.cost\n",
        "\n",
        "    def get_description(self):\n",
        "        return self.component.get_description() + ', ' + self.description\n",
        "\n",
        "\n",
        "#\"Keçi Peyniri\" adlı decoratorden türeyen alt sınıf\n",
        "class KeciPeyniri(Decorator):\n",
        "    def __init__(self, component):\n",
        "        self.description = \"Keçi Peyniri\"\n",
        "        self.cost = 4.0\n",
        "        super().__init__(component)\n",
        "\n",
        "    def get_cost(self):\n",
        "        return self.component.get_cost() + self.cost\n",
        "\n",
        "    def get_description(self):\n",
        "        return self.component.get_description() + ', ' + self.description\n",
        "\n",
        "\n",
        "#\"Et\" adlı decoratorden türeyen alt sınıf\n",
        "class Et(Decorator):\n",
        "    def __init__(self, component):\n",
        "        self.description = \"Et\"\n",
        "        self.cost = 5.0\n",
        "        super().__init__(component)\n",
        "\n",
        "    def get_cost(self):\n",
        "        return self.component.get_cost() + self.cost\n",
        "\n",
        "    def get_description(self):\n",
        "        return self.component.get_description() + ', ' + self.description\n",
        "\n",
        "\n",
        "#\"Soğan\" adlı decoratorden türeyen alt sınıf\n",
        "class Sogan(Decorator):\n",
        "    def __init__(self, component):\n",
        "        self.description = \"Soğan\"\n",
        "        self.cost = 2.5\n",
        "        super().__init__(component)\n",
        "\n",
        "    def get_cost(self):\n",
        "        return self.component.get_cost() + self.cost\n",
        "\n",
        "    def get_description(self):\n",
        "        return self.component.get_description() + ', ' + self.description\n",
        "\n",
        "#\"Mısır\" adlı decoratorden türeyen alt sınıf\n",
        "class Misir(Decorator):\n",
        "    def __init__(self, component):\n",
        "        self.description = \"Mısır\"\n",
        "        self.cost = 2.5\n",
        "        super().__init__(component)\n",
        "\n",
        "    def get_cost(self):\n",
        "        return self.component.get_cost() + self.cost\n",
        "\n",
        "    def get_description(self):\n",
        "        return self.component.get_description() + ', ' + self.description"
      ],
      "metadata": {
        "id": "Ajn0z7H-iblV"
      },
      "execution_count": 28,
      "outputs": []
    },
    {
      "cell_type": "markdown",
      "source": [
        "\n",
        "# Fonksiyonlarımızı yazıyoruz"
      ],
      "metadata": {
        "id": "WsUWVrK4nqim"
      }
    },
    {
      "cell_type": "code",
      "source": [
        "# Pizza siparişi vermek için menü oluşturuyoruz.\n",
        "# Menü dosyasından pizzaları listeler ve kullanıcının pizzasını seçmesini ve ek malzemeler eklemesini sağlar.\n",
        "# Kullanıcının seçtiği pizzanın açıklamasını ve fiyatını görüntüler.\n",
        "\n",
        "class_dict = {\n",
        "    1: Klasik,\n",
        "    2: Margarita,\n",
        "    3: TurkPizza,\n",
        "    4: SadePizza,\n",
        "    11: Zeytin,\n",
        "    12: Mantarlar,\n",
        "    13: KeciPeyniri,\n",
        "    14: Et,\n",
        "    15: Sogan,\n",
        "    16: Misir\n",
        "}\n",
        "\n",
        "# Menu.txt yi okuyan eğer boşşa hata veren fonksiyon\n",
        "def display_menu():\n",
        "    with open(\"Menu.txt\") as menu_file:\n",
        "        print(menu_file.read())\n",
        "\n",
        "# Pizza seçimi yapan fonksiyon\n",
        "def get_pizza_choice():\n",
        "    while True:\n",
        "        code = input(\"\\n\" + \"Lütfen Pizza Tabanını Seçiniz [1-4]: \")\n",
        "        if code in [\"1\", \"2\", \"3\", \"4\"]:\n",
        "            pizza = class_dict[int(code)]()\n",
        "            print(\"\\n\" +\"Seçtiğiniz Pizza: \" +  pizza.get_description())\n",
        "            while True:\n",
        "                change_choice = input(\"Seçiminizi değiştirmek ister misiniz? (E/H): \")\n",
        "                if change_choice.lower() == \"e\":\n",
        "                    break\n",
        "                elif change_choice.lower() == \"h\":\n",
        "                    return pizza\n",
        "                else:\n",
        "                    print(\"Yanlış giriş yaptınız. Lütfen 'E' veya 'H' harflerinden birini giriniz.\")\n",
        "        else:\n",
        "            print(\"Yanlış Giriş Yaptınız.1-4 arası bir sayı giriniz!\")\n",
        "\n",
        "\n",
        "# Pizzaya sos seçimi yapan fonksiyon\n",
        "# İkinci seçimden sonra farklı bir text oluşturarak yeni sos eklenicek mi devam mı edilecek sorgular\n",
        "def get_toppings(pizza):\n",
        "    while True:\n",
        "        code = input(\"Lütfen sos seçiniz [11-16]-(Seçim yapadan çıkmak için 0'a basınız): \")\n",
        "        if code == \"0\":\n",
        "            return pizza\n",
        "        elif code in [\"11\", \"12\", \"13\", \"14\", \"15\", \"16\"]:\n",
        "            pizza = class_dict[int(code)](pizza)\n",
        "            while True:\n",
        "                choice = input(\"Başka bir sos eklemek ister misiniz? (E/H): \")\n",
        "                if choice.upper() == \"E\":\n",
        "                    break\n",
        "                elif choice.upper() == \"H\":\n",
        "                    return pizza\n",
        "                else:\n",
        "                    print(\"Lütfen geçerli bir seçim yapın. (E/H)\")\n",
        "        else:\n",
        "            print(\"Yanlış Giriş Yaptınız.Lütfen 11-16 arası bir sayı giriniz!\")\n",
        "\n",
        "\n",
        "# Tc kimlik numarası harf barındırıyor mu ve 11 haneli mi kontrolünü yapar\n",
        "def get_validate_tc(tc):\n",
        "    if len(tc) != 11:\n",
        "        print(\"Hatalı giriş yaptınız. TC kimlik numarası 11 haneli olmalıdır.\")\n",
        "        return False\n",
        "    elif not tc.isdigit():\n",
        "        print(\"Hatalı giriş yaptınız. TC kimlik numarası sadece sayılardan oluşmalıdır.\")\n",
        "        return False\n",
        "    else:\n",
        "        return True\n",
        "\n",
        "# Kredi kartı numarası harf barındırıyor mu ve 16 haneli mi kontrolünü yapar\n",
        "def get_credit_card_number(k_no):\n",
        "    if len(k_no) != 16:\n",
        "        print(\"Hatalı giriş yaptınız. Kredi kartı numarası 16 haneli olmalıdır.\")\n",
        "        return False\n",
        "    elif not k_no.isdigit():\n",
        "        print(\"Hatalı giriş yaptınız. Kredi kartı numarası sadece sayılardan oluşmalıdır.\")\n",
        "        return False\n",
        "    else:\n",
        "        return True\n",
        "\n",
        "# Kart şifresi harf barındırıyor mu ve 4 haneli mi kontrolünü yapar\n",
        "def get_credit_card_password(k_pw):\n",
        "    if len(k_pw) != 4:\n",
        "        print(\"Hatalı giriş yaptınız. Kredi kartı şifresi 4 haneli olmalıdır.\")\n",
        "        return False\n",
        "    elif not k_pw.isdigit():\n",
        "        print(\"Hatalı giriş yaptınız. Şifre sadece sayılardan oluşmalıdır.\")\n",
        "        return False\n",
        "    else:\n",
        "        return True\n",
        "\n",
        "# Kart şifresi base64 ile şifreliyoruz\n",
        "def encrypt_password(password):\n",
        "    encoded_password = password.encode('utf-8')\n",
        "    encrypted_password = base64.b64encode(encoded_password)\n",
        "    return encrypted_password.decode('utf-8')\n",
        "\n",
        "\n",
        "# Girdileri aldığımız fonksiyon\n",
        "def inputs():\n",
        "\n",
        "    pizza = get_pizza_choice()\n",
        "    pizza = get_toppings(pizza)\n",
        "    print(\"----------Sipariş Bilgileri----------\\n\")\n",
        "    print(\"\\n\" + pizza.get_description().strip() +  ' = ' + str(pizza.get_cost()) + \"TL\" )\n",
        "    print(\"----------Fatura Bilgileri----------\\n\")\n",
        "    name = input(\"İsminiz: \")\n",
        "\n",
        "    tc = input(\"\\n\" + \"11 haneli TC Kimlik Numaranız: \")\n",
        "    while not get_validate_tc(tc):\n",
        "      tc = input(\"\\n\" + \"11 haneli TC Kimlik Numaranız: \")\n",
        "\n",
        "    k_no = input(\"\\n\" + \"16 haneli Kredi Kartı Numaranız: \")\n",
        "    while not get_credit_card_number(k_no):\n",
        "      k_no = input(\"\\n\" + \"16 haneli Kredi Kartı Numaranız: \")\n",
        "\n",
        "    k_pw = input(\"\\n\" + \"4 haneli Kredi Kartı Şifreniz: \")\n",
        "    while not get_credit_card_password(k_pw):\n",
        "      k_pw = input(\"\\n\" + \"4 haneli Kredi Kartı Şifreniz: \")\n",
        "\n",
        "    date_time = datetime.datetime.now()\n",
        "    add_order_to_database(name, tc, k_no, k_pw, pizza, date_time)\n",
        "\n",
        "# Csv olarak siparişleri kaydettiğimiz fonksiyon\n",
        "def add_order_to_database(name, tc, k_no, k_pw, pizza, date_time):\n",
        "    headers = ['Name', 'TC', 'Credit_Card_No', 'Credit_Card_Password', 'Pizza_Description', 'Date_and_Time']\n",
        "    with open('Orders_Database.csv', 'a', newline='') as orders:\n",
        "        writer = csv.writer(orders)\n",
        "        if orders.tell() == 0:\n",
        "            writer.writerow(headers)\n",
        "        writer.writerow([name, tc, k_no, encrypt_password(k_pw), pizza.get_description(), date_time])\n",
        "    print(\"\\n\" + \"Siparişiniz tamamlandı.\")"
      ],
      "metadata": {
        "id": "ikEPiI9Tnuuo"
      },
      "execution_count": 43,
      "outputs": []
    },
    {
      "cell_type": "markdown",
      "source": [
        "# Main fonksiyonu oluşturuyoruz."
      ],
      "metadata": {
        "id": "HaNe18JzaZzP"
      }
    },
    {
      "cell_type": "code",
      "source": [
        "def main():\n",
        "    # Menüyü çağırıyoruz\n",
        "    display_menu()\n",
        "    # inputların yer aldığı fonksiyonu çağırıyoruz\n",
        "    inputs()\n",
        "\n",
        "# Main fonsiyonu çağırıyoruz\n",
        "main()"
      ],
      "metadata": {
        "colab": {
          "base_uri": "https://localhost:8080/"
        },
        "id": "f4YIBrzkadRp",
        "outputId": "1d899821-fcad-4544-b94a-dc366d0cf44d"
      },
      "execution_count": 44,
      "outputs": [
        {
          "output_type": "stream",
          "name": "stdout",
          "text": [
            "* ************HOŞGELDİNİZ*********\n",
            "* Lütfen Bir Pizza Tabanı Seçiniz:\n",
            "1: Klasik\n",
            "2: Margarita\n",
            "3: TürkPizza\n",
            "4: Sade Pizza\n",
            "* ve seçeceğiniz sos:\n",
            "11: Zeytin\n",
            "12: Mantarlar\n",
            "13: Keçi Peyniri\n",
            "14: Et\n",
            "15: Soğan\n",
            "16: Mısır\n",
            "* Teşekkür ederiz!\n",
            "\n",
            "\n",
            "Lütfen Pizza Tabanını Seçiniz [1-4]: 5\n",
            "Yanlış Giriş Yaptınız.1-4 arası bir sayı giriniz!\n",
            "\n",
            "Lütfen Pizza Tabanını Seçiniz [1-4]: 1\n",
            "\n",
            "Seçtiğiniz Pizza: Klasik Pizza: domates sosu, mozzarella peyniri, mısır, mantar, zeytin\n",
            "Seçiminizi değiştirmek ister misiniz? (E/H): 5\n",
            "Yanlış giriş yaptınız. Lütfen 'E' veya 'H' harflerinden birini giriniz.\n",
            "Seçiminizi değiştirmek ister misiniz? (E/H): e\n",
            "\n",
            "Lütfen Pizza Tabanını Seçiniz [1-4]: 3\n",
            "\n",
            "Seçtiğiniz Pizza: Turkish Pizza: Sucuk, sosis, domates, biber, kaşar peyniri\n",
            "Seçiminizi değiştirmek ister misiniz? (E/H): h\n",
            "Lütfen sos seçiniz [11-16]-(Seçim yapadan çıkmak için 0'a basınız): 11\n",
            "Başka bir sos eklemek ister misiniz? (E/H): e\n",
            "Lütfen sos seçiniz [11-16]-(Seçim yapadan çıkmak için 0'a basınız): 13\n",
            "Başka bir sos eklemek ister misiniz? (E/H): h\n",
            "----------Sipariş Bilgileri----------\n",
            "\n",
            "\n",
            "Turkish Pizza: Sucuk, sosis, domates, biber, kaşar peyniri, Zeytin, Keçi Peyniri = 21.0TL\n",
            "----------Fatura Bilgileri----------\n",
            "\n",
            "İsminiz: Mustafa\n",
            "\n",
            "11 haneli TC Kimlik Numaranız: 123\n",
            "Hatalı giriş yaptınız. TC kimlik numarası 11 haneli olmalıdır.\n",
            "\n",
            "11 haneli TC Kimlik Numaranız: 12341234123\n",
            "\n",
            "16 haneli Kredi Kartı Numaranız: 1234123412341234\n",
            "\n",
            "4 haneli Kredi Kartı Şifreniz: 1234\n",
            "\n",
            "Siparişiniz tamamlandı.\n"
          ]
        }
      ]
    }
  ]
}